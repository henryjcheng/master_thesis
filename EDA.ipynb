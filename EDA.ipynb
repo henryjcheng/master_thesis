{
 "cells": [
  {
   "cell_type": "markdown",
   "metadata": {},
   "source": [
    "# EDA\n",
    "This notebook contains EDA code and result for MIMIC-III dataset.  \n",
    "\n",
    "### Notes\n",
    "1. explore TEXT in noteevent with metadata analysis and visually scanning through records  \n",
    "2. explore diagnosis distributions\n",
    "3. explore diagnosis x TEXT to identify patterns"
   ]
  },
  {
   "cell_type": "markdown",
   "metadata": {},
   "source": [
    "## TEXT"
   ]
  },
  {
   "cell_type": "code",
   "execution_count": 2,
   "metadata": {},
   "outputs": [
    {
     "name": "stdout",
     "output_type": "stream",
     "text": [
      "CPU times: user 3min 7s, sys: 49.5 s, total: 3min 56s\n",
      "Wall time: 5min 58s\n"
     ]
    }
   ],
   "source": [
    "%%time\n",
    "# load data\n",
    "import sqlite3\n",
    "import pandas as pd\n",
    "\n",
    "# here we join with diagnoses_icd because we're only interested in charts with diagnoses\n",
    "\n",
    "conn = sqlite3.connect('../database/mimic.db')\n",
    "sql = 'SELECT DISTINCT a.hadm_id, a.category, a.description, a.text \\\n",
    "       FROM noteevents a \\\n",
    "       INNER JOIN diagnoses_icd b \\\n",
    "           ON a.hadm_id = b.hadm_id;'\n",
    "\n",
    "df = pd.read_sql_query(sql, conn)"
   ]
  },
  {
   "cell_type": "code",
   "execution_count": 3,
   "metadata": {},
   "outputs": [
    {
     "name": "stdout",
     "output_type": "stream",
     "text": [
      "CPU times: user 2.53 s, sys: 482 ms, total: 3.01 s\n",
      "Wall time: 3.11 s\n"
     ]
    }
   ],
   "source": [
    "%%time\n",
    "# load diagnoses with description\n",
    "sql = 'SELECT DISTINCT a.hadm_id, a.icd9_code, b.short_title, b.long_title \\\n",
    "       FROM diagnoses_icd a \\\n",
    "       INNER JOIN d_icd_diagnoses b \\\n",
    "           ON a.icd9_code = b.icd9_code'\n",
    "\n",
    "df_diag = pd.read_sql_query(sql, conn)"
   ]
  },
  {
   "cell_type": "code",
   "execution_count": 4,
   "metadata": {},
   "outputs": [
    {
     "data": {
      "text/html": [
       "<div>\n",
       "<style scoped>\n",
       "    .dataframe tbody tr th:only-of-type {\n",
       "        vertical-align: middle;\n",
       "    }\n",
       "\n",
       "    .dataframe tbody tr th {\n",
       "        vertical-align: top;\n",
       "    }\n",
       "\n",
       "    .dataframe thead th {\n",
       "        text-align: right;\n",
       "    }\n",
       "</style>\n",
       "<table border=\"1\" class=\"dataframe\">\n",
       "  <thead>\n",
       "    <tr style=\"text-align: right;\">\n",
       "      <th></th>\n",
       "      <th>HADM_ID</th>\n",
       "      <th>category</th>\n",
       "      <th>description</th>\n",
       "      <th>text</th>\n",
       "    </tr>\n",
       "  </thead>\n",
       "  <tbody>\n",
       "    <tr>\n",
       "      <th>0</th>\n",
       "      <td>174680</td>\n",
       "      <td>Discharge summary</td>\n",
       "      <td>Report</td>\n",
       "      <td>Admission Date:  [**2147-11-17**]             ...</td>\n",
       "    </tr>\n",
       "    <tr>\n",
       "      <th>1</th>\n",
       "      <td>117806</td>\n",
       "      <td>Discharge summary</td>\n",
       "      <td>Report</td>\n",
       "      <td>Admission Date:  [**2154-4-30**]              ...</td>\n",
       "    </tr>\n",
       "    <tr>\n",
       "      <th>2</th>\n",
       "      <td>184534</td>\n",
       "      <td>Discharge summary</td>\n",
       "      <td>Report</td>\n",
       "      <td>Admission Date:  [**2172-3-26**]              ...</td>\n",
       "    </tr>\n",
       "    <tr>\n",
       "      <th>3</th>\n",
       "      <td>195146</td>\n",
       "      <td>Discharge summary</td>\n",
       "      <td>Report</td>\n",
       "      <td>Admission Date:  [**2198-11-23**]             ...</td>\n",
       "    </tr>\n",
       "    <tr>\n",
       "      <th>4</th>\n",
       "      <td>154895</td>\n",
       "      <td>Discharge summary</td>\n",
       "      <td>Report</td>\n",
       "      <td>Admission Date:  [**2190-5-16**]     Discharge...</td>\n",
       "    </tr>\n",
       "  </tbody>\n",
       "</table>\n",
       "</div>"
      ],
      "text/plain": [
       "   HADM_ID           category description  \\\n",
       "0   174680  Discharge summary      Report   \n",
       "1   117806  Discharge summary      Report   \n",
       "2   184534  Discharge summary      Report   \n",
       "3   195146  Discharge summary      Report   \n",
       "4   154895  Discharge summary      Report   \n",
       "\n",
       "                                                text  \n",
       "0  Admission Date:  [**2147-11-17**]             ...  \n",
       "1  Admission Date:  [**2154-4-30**]              ...  \n",
       "2  Admission Date:  [**2172-3-26**]              ...  \n",
       "3  Admission Date:  [**2198-11-23**]             ...  \n",
       "4  Admission Date:  [**2190-5-16**]     Discharge...  "
      ]
     },
     "metadata": {},
     "output_type": "display_data"
    },
    {
     "name": "stdout",
     "output_type": "stream",
     "text": [
      "(1816038, 4)\n"
     ]
    }
   ],
   "source": [
    "# rename to lowercase for easier typing\n",
    "df = df.rename(columns={'CATEGORY':'category',\n",
    "                        'DESCRIPTION':'description',\n",
    "                        'TEXT':'text'})\n",
    "\n",
    "# remove white space in category and description\n",
    "df['category'] = df['category'].str.strip()\n",
    "df['description'] = df['description'].str.strip()\n",
    "\n",
    "display(df.head())\n",
    "print(df.shape)"
   ]
  },
  {
   "cell_type": "code",
   "execution_count": 5,
   "metadata": {},
   "outputs": [
    {
     "data": {
      "text/plain": [
       "Nursing/other        815274\n",
       "Radiology            378920\n",
       "Nursing              199720\n",
       "ECG                  137921\n",
       "Physician            132833\n",
       "Discharge summary     59568\n",
       "Echo                  34037\n",
       "Respiratory           31421\n",
       "Nutrition              9266\n",
       "General                8025\n",
       "Rehab Services         5378\n",
       "Social Work            2530\n",
       "Case Management         950\n",
       "Pharmacy                 99\n",
       "Consult                  96\n",
       "Name: category, dtype: int64"
      ]
     },
     "execution_count": 5,
     "metadata": {},
     "output_type": "execute_result"
    }
   ],
   "source": [
    "df['category'].value_counts()"
   ]
  },
  {
   "cell_type": "code",
   "execution_count": 6,
   "metadata": {},
   "outputs": [
    {
     "data": {
      "text/plain": [
       "Nursing/other        0.448930\n",
       "Radiology            0.208652\n",
       "Nursing              0.109976\n",
       "ECG                  0.075946\n",
       "Physician            0.073144\n",
       "Discharge summary    0.032801\n",
       "Echo                 0.018742\n",
       "Respiratory          0.017302\n",
       "Nutrition            0.005102\n",
       "General              0.004419\n",
       "Rehab Services       0.002961\n",
       "Social Work          0.001393\n",
       "Case Management      0.000523\n",
       "Pharmacy             0.000055\n",
       "Consult              0.000053\n",
       "Name: category, dtype: float64"
      ]
     },
     "execution_count": 6,
     "metadata": {},
     "output_type": "execute_result"
    }
   ],
   "source": [
    "df['category'].value_counts(normalize=True)"
   ]
  },
  {
   "cell_type": "code",
   "execution_count": 7,
   "metadata": {},
   "outputs": [
    {
     "data": {
      "text/plain": [
       "Report                               1042334\n",
       "Nursing Progress Note                 170865\n",
       "CHEST (PORTABLE AP)                   156240\n",
       "Physician Resident Progress Note       59837\n",
       "Respiratory Care Shift Note            30792\n",
       "Nursing Transfer Note                  27973\n",
       "CT HEAD W/O CONTRAST                   26891\n",
       "Intensivist Note                       23769\n",
       "CHEST (PA & LAT)                       21577\n",
       "Physician Attending Progress Note      19429\n",
       "Name: description, dtype: int64"
      ]
     },
     "execution_count": 7,
     "metadata": {},
     "output_type": "execute_result"
    }
   ],
   "source": [
    "n_top = 10\n",
    "freq_desc = df['description'].value_counts()[:n_top]\n",
    "freq_desc"
   ]
  },
  {
   "cell_type": "code",
   "execution_count": 8,
   "metadata": {},
   "outputs": [
    {
     "data": {
      "text/plain": [
       "0.8698645072404873"
      ]
     },
     "execution_count": 8,
     "metadata": {},
     "output_type": "execute_result"
    }
   ],
   "source": [
    "freq_desc.sum()/df.shape[0]"
   ]
  },
  {
   "cell_type": "markdown",
   "metadata": {},
   "source": [
    "### Notes\n",
    "Here we see different types of categories for each charts. We may be interested in seeing how the texts are different among each type of categories.  \n",
    "  \n",
    "__Report__ accounts for about 50% of all chart descriptions with top 10 most frequent description types representing about 87% of all charts.\n",
    "\n",
    "### Action Item\n",
    "1. for bigger categories, explore description breakout\n",
    "2. explore text differences within each category and description\n",
    "    * also scan for diagnosis to see if patterns are observed\n",
    "3. from diagnosis, review charts to see if patterns can be observed"
   ]
  },
  {
   "cell_type": "code",
   "execution_count": 9,
   "metadata": {},
   "outputs": [
    {
     "name": "stdout",
     "output_type": "stream",
     "text": [
      "Nursing/other: \n"
     ]
    },
    {
     "data": {
      "text/plain": [
       "Report    815274\n",
       "Name: description, dtype: int64"
      ]
     },
     "metadata": {},
     "output_type": "display_data"
    },
    {
     "name": "stdout",
     "output_type": "stream",
     "text": [
      "\n",
      "\n",
      "Radiology: \n"
     ]
    },
    {
     "data": {
      "text/plain": [
       "CHEST (PORTABLE AP)           156240\n",
       "CT HEAD W/O CONTRAST           26891\n",
       "CHEST (PA & LAT)               21577\n",
       "CHEST PORT. LINE PLACEMENT     19281\n",
       "PORTABLE ABDOMEN                7452\n",
       "Name: description, dtype: int64"
      ]
     },
     "metadata": {},
     "output_type": "display_data"
    },
    {
     "name": "stdout",
     "output_type": "stream",
     "text": [
      "\n",
      "\n",
      "Nursing: \n"
     ]
    },
    {
     "data": {
      "text/plain": [
       "Nursing Progress Note    170861\n",
       "Nursing Transfer Note     27972\n",
       "Generic Note                571\n",
       "Nursing 1900-0700           162\n",
       "ICU Event Note               24\n",
       "Name: description, dtype: int64"
      ]
     },
     "metadata": {},
     "output_type": "display_data"
    },
    {
     "name": "stdout",
     "output_type": "stream",
     "text": [
      "\n",
      "\n",
      "ECG: \n"
     ]
    },
    {
     "data": {
      "text/plain": [
       "Report    137921\n",
       "Name: description, dtype: int64"
      ]
     },
     "metadata": {},
     "output_type": "display_data"
    },
    {
     "name": "stdout",
     "output_type": "stream",
     "text": [
      "\n",
      "\n",
      "Physician: \n"
     ]
    },
    {
     "data": {
      "text/plain": [
       "Physician Resident Progress Note     59821\n",
       "Intensivist Note                     23749\n",
       "Physician Attending Progress Note    19429\n",
       "Physician Resident Admission Note     9659\n",
       "ICU Note - CVI                        4393\n",
       "Name: description, dtype: int64"
      ]
     },
     "metadata": {},
     "output_type": "display_data"
    },
    {
     "name": "stdout",
     "output_type": "stream",
     "text": [
      "\n",
      "\n"
     ]
    }
   ],
   "source": [
    "list_category = ['Nursing/other', 'Radiology', 'Nursing', 'ECG', 'Physician']\n",
    "n_top = 5\n",
    "\n",
    "for category in list_category:\n",
    "    print(f'{category}: ')\n",
    "    display(df[df['category'] == category]['description'].value_counts()[:n_top])\n",
    "    print('\\n')"
   ]
  },
  {
   "cell_type": "code",
   "execution_count": 270,
   "metadata": {},
   "outputs": [],
   "source": [
    "# create subset of data to inspect\n",
    "insp_category = 'Physician'\n",
    "insp_descript = 'Physician Resident Progress Note'\n",
    "\n",
    "df_inspect = df[(df['category'] == insp_category) & \\\n",
    "                (df['description'] == insp_descript)]\\\n",
    "                .sort_values('HADM_ID') \\\n",
    "                .reset_index(drop=True)"
   ]
  },
  {
   "cell_type": "code",
   "execution_count": 282,
   "metadata": {},
   "outputs": [
    {
     "name": "stdout",
     "output_type": "stream",
     "text": [
      "HADM ID: 100182 has 42 records.\n"
     ]
    }
   ],
   "source": [
    "# from index, show how many notes for one hadm_id\n",
    "index = 50\n",
    "hadm_id = df_inspect.at[index, 'HADM_ID']\n",
    "num_record = df[df['HADM_ID'] == hadm_id].shape[0]\n",
    "print(f'HADM ID: {hadm_id} has {num_record} records.')"
   ]
  },
  {
   "cell_type": "code",
   "execution_count": 283,
   "metadata": {},
   "outputs": [
    {
     "data": {
      "text/html": [
       "<div>\n",
       "<style scoped>\n",
       "    .dataframe tbody tr th:only-of-type {\n",
       "        vertical-align: middle;\n",
       "    }\n",
       "\n",
       "    .dataframe tbody tr th {\n",
       "        vertical-align: top;\n",
       "    }\n",
       "\n",
       "    .dataframe thead th {\n",
       "        text-align: right;\n",
       "    }\n",
       "</style>\n",
       "<table border=\"1\" class=\"dataframe\">\n",
       "  <thead>\n",
       "    <tr style=\"text-align: right;\">\n",
       "      <th></th>\n",
       "      <th>HADM_ID</th>\n",
       "      <th>ICD9_CODE</th>\n",
       "      <th>SHORT_TITLE</th>\n",
       "      <th>LONG_TITLE</th>\n",
       "    </tr>\n",
       "  </thead>\n",
       "  <tbody>\n",
       "    <tr>\n",
       "      <th>112878</th>\n",
       "      <td>100182</td>\n",
       "      <td>25000</td>\n",
       "      <td>DMII wo cmp nt st uncntr</td>\n",
       "      <td>Diabetes mellitus without mention of complicat...</td>\n",
       "    </tr>\n",
       "    <tr>\n",
       "      <th>112880</th>\n",
       "      <td>100182</td>\n",
       "      <td>2749</td>\n",
       "      <td>Gout NOS</td>\n",
       "      <td>Gout, unspecified</td>\n",
       "    </tr>\n",
       "    <tr>\n",
       "      <th>112869</th>\n",
       "      <td>100182</td>\n",
       "      <td>2761</td>\n",
       "      <td>Hyposmolality</td>\n",
       "      <td>Hyposmolality and/or hyponatremia</td>\n",
       "    </tr>\n",
       "    <tr>\n",
       "      <th>112881</th>\n",
       "      <td>100182</td>\n",
       "      <td>28521</td>\n",
       "      <td>Anemia in chr kidney dis</td>\n",
       "      <td>Anemia in chronic kidney disease</td>\n",
       "    </tr>\n",
       "    <tr>\n",
       "      <th>112883</th>\n",
       "      <td>100182</td>\n",
       "      <td>2989</td>\n",
       "      <td>Psychosis NOS</td>\n",
       "      <td>Unspecified psychosis</td>\n",
       "    </tr>\n",
       "    <tr>\n",
       "      <th>112890</th>\n",
       "      <td>100182</td>\n",
       "      <td>3669</td>\n",
       "      <td>Cataract NOS</td>\n",
       "      <td>Unspecified cataract</td>\n",
       "    </tr>\n",
       "    <tr>\n",
       "      <th>112874</th>\n",
       "      <td>100182</td>\n",
       "      <td>40390</td>\n",
       "      <td>Hy kid NOS w cr kid I-IV</td>\n",
       "      <td>Hypertensive chronic kidney disease, unspecifi...</td>\n",
       "    </tr>\n",
       "    <tr>\n",
       "      <th>112877</th>\n",
       "      <td>100182</td>\n",
       "      <td>412</td>\n",
       "      <td>Old myocardial infarct</td>\n",
       "      <td>Old myocardial infarction</td>\n",
       "    </tr>\n",
       "    <tr>\n",
       "      <th>112870</th>\n",
       "      <td>100182</td>\n",
       "      <td>4139</td>\n",
       "      <td>Angina pectoris NEC/NOS</td>\n",
       "      <td>Other and unspecified angina pectoris</td>\n",
       "    </tr>\n",
       "    <tr>\n",
       "      <th>112875</th>\n",
       "      <td>100182</td>\n",
       "      <td>41401</td>\n",
       "      <td>Crnry athrscl natve vssl</td>\n",
       "      <td>Coronary atherosclerosis of native coronary ar...</td>\n",
       "    </tr>\n",
       "    <tr>\n",
       "      <th>112887</th>\n",
       "      <td>100182</td>\n",
       "      <td>4240</td>\n",
       "      <td>Mitral valve disorder</td>\n",
       "      <td>Mitral valve disorders</td>\n",
       "    </tr>\n",
       "    <tr>\n",
       "      <th>112889</th>\n",
       "      <td>100182</td>\n",
       "      <td>4263</td>\n",
       "      <td>Left bb block NEC</td>\n",
       "      <td>Other left bundle branch block</td>\n",
       "    </tr>\n",
       "    <tr>\n",
       "      <th>112879</th>\n",
       "      <td>100182</td>\n",
       "      <td>42731</td>\n",
       "      <td>Atrial fibrillation</td>\n",
       "      <td>Atrial fibrillation</td>\n",
       "    </tr>\n",
       "    <tr>\n",
       "      <th>112871</th>\n",
       "      <td>100182</td>\n",
       "      <td>4280</td>\n",
       "      <td>CHF NOS</td>\n",
       "      <td>Congestive heart failure, unspecified</td>\n",
       "    </tr>\n",
       "    <tr>\n",
       "      <th>112865</th>\n",
       "      <td>100182</td>\n",
       "      <td>42843</td>\n",
       "      <td>Ac/chr syst/dia hrt fail</td>\n",
       "      <td>Acute on chronic combined systolic and diastol...</td>\n",
       "    </tr>\n",
       "    <tr>\n",
       "      <th>112886</th>\n",
       "      <td>100182</td>\n",
       "      <td>4401</td>\n",
       "      <td>Renal artery atheroscler</td>\n",
       "      <td>Atherosclerosis of renal artery</td>\n",
       "    </tr>\n",
       "    <tr>\n",
       "      <th>112872</th>\n",
       "      <td>100182</td>\n",
       "      <td>496</td>\n",
       "      <td>Chr airway obstruct NEC</td>\n",
       "      <td>Chronic airway obstruction, not elsewhere clas...</td>\n",
       "    </tr>\n",
       "    <tr>\n",
       "      <th>112888</th>\n",
       "      <td>100182</td>\n",
       "      <td>53081</td>\n",
       "      <td>Esophageal reflux</td>\n",
       "      <td>Esophageal reflux</td>\n",
       "    </tr>\n",
       "    <tr>\n",
       "      <th>112866</th>\n",
       "      <td>100182</td>\n",
       "      <td>5849</td>\n",
       "      <td>Acute kidney failure NOS</td>\n",
       "      <td>Acute kidney failure, unspecified</td>\n",
       "    </tr>\n",
       "    <tr>\n",
       "      <th>112867</th>\n",
       "      <td>100182</td>\n",
       "      <td>5854</td>\n",
       "      <td>Chr kidney dis stage IV</td>\n",
       "      <td>Chronic kidney disease, Stage IV (severe)</td>\n",
       "    </tr>\n",
       "    <tr>\n",
       "      <th>112884</th>\n",
       "      <td>100182</td>\n",
       "      <td>7231</td>\n",
       "      <td>Cervicalgia</td>\n",
       "      <td>Cervicalgia</td>\n",
       "    </tr>\n",
       "    <tr>\n",
       "      <th>112885</th>\n",
       "      <td>100182</td>\n",
       "      <td>7245</td>\n",
       "      <td>Backache NOS</td>\n",
       "      <td>Backache, unspecified</td>\n",
       "    </tr>\n",
       "    <tr>\n",
       "      <th>112868</th>\n",
       "      <td>100182</td>\n",
       "      <td>7455</td>\n",
       "      <td>Secundum atrial sept def</td>\n",
       "      <td>Ostium secundum type atrial septal defect</td>\n",
       "    </tr>\n",
       "    <tr>\n",
       "      <th>112882</th>\n",
       "      <td>100182</td>\n",
       "      <td>78900</td>\n",
       "      <td>Abdmnal pain unspcf site</td>\n",
       "      <td>Abdominal pain, unspecified site</td>\n",
       "    </tr>\n",
       "    <tr>\n",
       "      <th>112891</th>\n",
       "      <td>100182</td>\n",
       "      <td>V103</td>\n",
       "      <td>Hx of breast malignancy</td>\n",
       "      <td>Personal history of malignant neoplasm of breast</td>\n",
       "    </tr>\n",
       "    <tr>\n",
       "      <th>112876</th>\n",
       "      <td>100182</td>\n",
       "      <td>V4582</td>\n",
       "      <td>Status-post ptca</td>\n",
       "      <td>Percutaneous transluminal coronary angioplasty...</td>\n",
       "    </tr>\n",
       "    <tr>\n",
       "      <th>112873</th>\n",
       "      <td>100182</td>\n",
       "      <td>V667</td>\n",
       "      <td>Encountr palliative care</td>\n",
       "      <td>Encounter for palliative care</td>\n",
       "    </tr>\n",
       "  </tbody>\n",
       "</table>\n",
       "</div>"
      ],
      "text/plain": [
       "        HADM_ID ICD9_CODE               SHORT_TITLE  \\\n",
       "112878   100182     25000  DMII wo cmp nt st uncntr   \n",
       "112880   100182      2749                  Gout NOS   \n",
       "112869   100182      2761             Hyposmolality   \n",
       "112881   100182     28521  Anemia in chr kidney dis   \n",
       "112883   100182      2989             Psychosis NOS   \n",
       "112890   100182      3669              Cataract NOS   \n",
       "112874   100182     40390  Hy kid NOS w cr kid I-IV   \n",
       "112877   100182       412    Old myocardial infarct   \n",
       "112870   100182      4139   Angina pectoris NEC/NOS   \n",
       "112875   100182     41401  Crnry athrscl natve vssl   \n",
       "112887   100182      4240     Mitral valve disorder   \n",
       "112889   100182      4263         Left bb block NEC   \n",
       "112879   100182     42731       Atrial fibrillation   \n",
       "112871   100182      4280                   CHF NOS   \n",
       "112865   100182     42843  Ac/chr syst/dia hrt fail   \n",
       "112886   100182      4401  Renal artery atheroscler   \n",
       "112872   100182       496   Chr airway obstruct NEC   \n",
       "112888   100182     53081         Esophageal reflux   \n",
       "112866   100182      5849  Acute kidney failure NOS   \n",
       "112867   100182      5854   Chr kidney dis stage IV   \n",
       "112884   100182      7231               Cervicalgia   \n",
       "112885   100182      7245              Backache NOS   \n",
       "112868   100182      7455  Secundum atrial sept def   \n",
       "112882   100182     78900  Abdmnal pain unspcf site   \n",
       "112891   100182      V103   Hx of breast malignancy   \n",
       "112876   100182     V4582          Status-post ptca   \n",
       "112873   100182      V667  Encountr palliative care   \n",
       "\n",
       "                                               LONG_TITLE  \n",
       "112878  Diabetes mellitus without mention of complicat...  \n",
       "112880                                  Gout, unspecified  \n",
       "112869                  Hyposmolality and/or hyponatremia  \n",
       "112881                   Anemia in chronic kidney disease  \n",
       "112883                              Unspecified psychosis  \n",
       "112890                               Unspecified cataract  \n",
       "112874  Hypertensive chronic kidney disease, unspecifi...  \n",
       "112877                          Old myocardial infarction  \n",
       "112870              Other and unspecified angina pectoris  \n",
       "112875  Coronary atherosclerosis of native coronary ar...  \n",
       "112887                             Mitral valve disorders  \n",
       "112889                     Other left bundle branch block  \n",
       "112879                                Atrial fibrillation  \n",
       "112871              Congestive heart failure, unspecified  \n",
       "112865  Acute on chronic combined systolic and diastol...  \n",
       "112886                    Atherosclerosis of renal artery  \n",
       "112872  Chronic airway obstruction, not elsewhere clas...  \n",
       "112888                                  Esophageal reflux  \n",
       "112866                  Acute kidney failure, unspecified  \n",
       "112867          Chronic kidney disease, Stage IV (severe)  \n",
       "112884                                        Cervicalgia  \n",
       "112885                              Backache, unspecified  \n",
       "112868          Ostium secundum type atrial septal defect  \n",
       "112882                   Abdominal pain, unspecified site  \n",
       "112891   Personal history of malignant neoplasm of breast  \n",
       "112876  Percutaneous transluminal coronary angioplasty...  \n",
       "112873                      Encounter for palliative care  "
      ]
     },
     "metadata": {},
     "output_type": "display_data"
    }
   ],
   "source": [
    "# get diagnosese for the hadm_id\n",
    "display(df_diag[df_diag['HADM_ID'] == hadm_id].sort_values('ICD9_CODE'))"
   ]
  },
  {
   "cell_type": "code",
   "execution_count": 284,
   "metadata": {},
   "outputs": [
    {
     "name": "stdout",
     "output_type": "stream",
     "text": [
      "Chief Complaint: transfer to CCU for respiratory distress\n",
      "   24 Hour Events:\n",
      "   [**2165-5-6**]:\n",
      "   -3 a.m.: had LUQ pain. Received morphine 0.5 mg PO\n",
      "   -5:30 a.m., went into Afib with normal HR and BP and no other EKG\n",
      "   changes\n",
      "   -spoke with Dr. [**Last Name (STitle) 2759**]: stopped Lasix gtt, free water restrict to 1500\n",
      "   cc daily\n",
      "   -Gave Isordil 10 mg ONCE PO tonight (not given Imdur or felodipine this\n",
      "   a.m. given that she had twice normal carvedilol) just to cover CAD\n",
      "   until a.m.\n",
      "   - Stopped NAC given no renal artery stent for now.\n",
      "   - Na corrected by 6 over 12 hours, K 3.7 but Cr 4.2 (didn't replete)\n",
      "   Allergies:\n",
      "   Atorvastatin\n",
      "   muscle/bone pai\n",
      "   Tylenol (Oral) (Dm Hb/Pseudoephed/Acetamin/Cp)\n",
      "   muscle pain;\n",
      "   Ibuprofen\n",
      "   muscle/bone pai\n",
      "   Rosuvastatin\n",
      "   Abdominal pain;\n",
      "   Last dose of Antibiotics:\n",
      "   Infusions:\n",
      "   Other ICU medications:\n",
      "   Other medications:\n",
      "   Changes to medical and family history:\n",
      "   Review of systems is unchanged from admission except as noted below\n",
      "   Review of systems:\n",
      "   Flowsheet Data as of  [**2165-5-7**] 07:43 AM\n",
      "   Vital signs\n",
      "   Hemodynamic monitoring\n",
      "   Fluid balance\n",
      "                                                                  24 hours\n",
      "                                                               Since [**67**] AM\n",
      "   Tmax: 36.6\n",
      "C (97.8\n",
      "   Tcurrent: 36.6\n",
      "C (97.8\n",
      "   HR: 63 (51 - 84) bpm\n",
      "   BP: 134/50(70) {112/42(62) - 134/58(73)} mmHg\n",
      "   RR: 18 (12 - 24) insp/min\n",
      "   SpO2: 94%\n",
      "   Heart rhythm: SR (Sinus Rhythm)\n",
      "   Wgt (current): 47.7 kg (admission): 47.1 kg\n",
      "                  Total In:\n",
      "                                                                    775 mL\n",
      "                                                                    120 mL\n",
      "   PO:\n",
      "                                                                    640 mL\n",
      "                                                                    120 mL\n",
      "   TF:\n",
      "   IVF:\n",
      "                                                                    135 mL\n",
      "   Blood products:\n",
      "   Total out:\n",
      "                                                                  1,460 mL\n",
      "                                                                    640 mL\n",
      "   Urine:\n",
      "                                                                  1,460 mL\n",
      "                                                                    640 mL\n",
      "   NG:\n",
      "   Stool:\n",
      "   Drains:\n",
      "   Balance:\n",
      "                                                                   -685 mL\n",
      "                                                                   -520 mL\n",
      "   Respiratory support\n",
      "   O2 Delivery Device: Nasal cannula\n",
      "   SpO2: 94%\n",
      "   ABG: ///32/\n",
      "   Physical Examination\n",
      "   Peripheral Vascular: (Right radial pulse: Not assessed), (Left radial\n",
      "   pulse: Not assessed), (Right DP pulse: Not assessed), (Left DP pulse:\n",
      "   Not assessed)\n",
      "   Skin:  Not assessed\n",
      "   Neurologic: Responds to: Not assessed, Movement: Not assessed, Tone:\n",
      "   Not assessed\n",
      "   Labs / Radiology\n",
      "   305 K/uL\n",
      "   9.0 g/dL\n",
      "   137 mg/dL\n",
      "   4.2 mg/dL\n",
      "   32 mEq/L\n",
      "   3.7 mEq/L\n",
      "   112 mg/dL\n",
      "   81 mEq/L\n",
      "   129 mEq/L\n",
      "   26.2 %\n",
      "   6.6 K/uL\n",
      "        [image002.jpg]\n",
      "                             [**2165-5-6**]  12:48 AM\n",
      "                             [**2165-5-6**]  04:08 PM\n",
      "                             [**2165-5-7**]  06:02 AM\n",
      "   WBC\n",
      "   7.4\n",
      "   6.6\n",
      "   Hct\n",
      "   25.7\n",
      "   26.2\n",
      "   Plt\n",
      "   239\n",
      "   305\n",
      "   Cr\n",
      "   4.4\n",
      "   4.2\n",
      "   TropT\n",
      "   0.20\n",
      "   Glucose\n",
      "   137\n",
      "   Other labs: PT / PTT / INR:13.1/26.5/1.1, CK / CKMB /\n",
      "   Troponin-T:17//0.20, Albumin:3.6 g/dL, Ca++:9.2 mg/dL, Mg++:3.8 mg/dL,\n",
      "   PO4:5.8 mg/dL\n",
      "   Imaging: None\n",
      "   Microbiology: None\n",
      "   Assessment and Plan\n",
      " ALTERED MENTAL STATUS (NOT DELIRIUM)\n",
      " .H/O RENAL FAILURE, CHRONIC (CHRONIC RENAL FAILURE, CRF, CHRONIC\n",
      "   KIDNEY DISEASE)\n",
      " PAIN CONTROL (ACUTE PAIN, CHRONIC PAIN)\n",
      " .H/O HEART FAILURE (CHF), SYSTOLIC AND DIASTOLIC, ACUTE ON CHRONIC\n",
      "   ICU Care\n",
      "   Nutrition:\n",
      "   Glycemic Control:\n",
      "   Lines:\n",
      "   20 Gauge - [**2165-5-5**] 10:30 PM\n",
      "   22 Gauge - [**2165-5-5**] 10:35 PM\n",
      "   Prophylaxis:\n",
      "   DVT:\n",
      "   Stress ulcer:\n",
      "   VAP:\n",
      "   Comments:\n",
      "   Communication:  Comments:\n",
      "   Code status: DNR / DNI\n",
      "   Disposition:\n",
      "\n"
     ]
    }
   ],
   "source": [
    "print(df_inspect.at[index, 'text'])"
   ]
  },
  {
   "cell_type": "code",
   "execution_count": 285,
   "metadata": {},
   "outputs": [
    {
     "data": {
      "text/plain": [
       "Unspecified essential hypertension                                                                            1710\n",
       "Congestive heart failure, unspecified                                                                         1590\n",
       "Acute kidney failure, unspecified                                                                             1564\n",
       "Atrial fibrillation                                                                                           1308\n",
       "Acute respiratory failure                                                                                     1197\n",
       "Other and unspecified hyperlipidemia                                                                          1175\n",
       "Coronary atherosclerosis of native coronary artery                                                             989\n",
       "Diabetes mellitus without mention of complication, type II or unspecified type, not stated as uncontrolled     934\n",
       "Urinary tract infection, site not specified                                                                    818\n",
       "Esophageal reflux                                                                                              791\n",
       "Name: LONG_TITLE, dtype: int64"
      ]
     },
     "execution_count": 285,
     "metadata": {},
     "output_type": "execute_result"
    }
   ],
   "source": [
    "hadm_id_all = df_inspect['HADM_ID'].drop_duplicates().tolist()\n",
    "df_diag[df_diag['HADM_ID'].isin(hadm_id_all)]['LONG_TITLE'].value_counts()[:10]"
   ]
  },
  {
   "cell_type": "markdown",
   "metadata": {},
   "source": [
    "## Text Inspection Notes\n",
    "Same hospital stays can result in multiple notes being generated. This causes an issue becuase diagnosis cannot be mapped to text with 1-to-1 relationship.  \n",
    "From model's perspective, it may make sense to __concatenate text by HADM_ID__ so the labels (diagnosis) can be applied properly.\n",
    "  \n",
    "Check __prevelance of diagnosis__ within each category. This is a proxy becasue same hadm_id can have notes in different categories.\n",
    "\n",
    "## Summary of each section\n",
    "### Nursing/other\n",
    "Progress notes on patient, with description of patient mental/physical/social conditions, medicine given, and other relevent notes.  \n",
    "  \n",
    "Dx - blood, heart, cardiac arrest, acute respiratory failure.  \n",
    "Prevalence - heart, hepatitis vaccine, infection, kidney failure, respiratory failure  \n",
    "\n",
    "### Radiology/CHEST (PORTABLE AP)\n",
    "Usually has a _reason for examination_, technique used, brief description of patient condition, and findings.  \n",
    "  \n",
    "Dx - fracture, acute respiratory failure.  \n",
    "Prevalence - hypertension, heart failure, kidney failure, diabetes, lipidemia, UTI\n",
    "\n",
    "### Radiology/CT HEAD W/O CONTRAST\n",
    "Text description tends to associate with brain injury or suspected conditions.  \n",
    "  \n",
    "Dx - fall, common health conditions, head injury (concussion), hemorrhage in brain  \n",
    "Prevalence - hyptertension, respiratory/heart/kidney failure, diabetes, pneumonitis from food\n",
    "\n",
    "### Radiology/CHEST (PA & LAT)\n",
    "Dx - pulmonary collapse  \n",
    "Prevalence - hyptertension, coronary, heart/kidney failure, diabetes, UTI\n",
    "\n",
    "### Radiology/CHEST PORT. LINE PLACEMENT\n",
    "Prevalence - about the same\n",
    "\n",
    "### Radiology/PORTABLE ABDOMEN\n",
    "Prevalence - sepsis\n",
    "\n",
    "### ECG\n",
    "small paragraph describing graph pattern\n",
    "\n",
    "### Physicians\n",
    "more listing style"
   ]
  },
  {
   "cell_type": "markdown",
   "metadata": {},
   "source": [
    "# Conclusion\n",
    "\n",
    "Upon investigaion, we have some idea of the chart format, the type of diagnoses associated with different chart types, as well as data type.  \n",
    "  \n",
    "__The next step__ will be concatenating all the text by _HADM_ID_ and creating training dataset."
   ]
  },
  {
   "cell_type": "code",
   "execution_count": null,
   "metadata": {},
   "outputs": [],
   "source": []
  }
 ],
 "metadata": {
  "kernelspec": {
   "display_name": "Python env",
   "language": "python",
   "name": "env"
  },
  "language_info": {
   "codemirror_mode": {
    "name": "ipython",
    "version": 3
   },
   "file_extension": ".py",
   "mimetype": "text/x-python",
   "name": "python",
   "nbconvert_exporter": "python",
   "pygments_lexer": "ipython3",
   "version": "3.6.9"
  }
 },
 "nbformat": 4,
 "nbformat_minor": 2
}
